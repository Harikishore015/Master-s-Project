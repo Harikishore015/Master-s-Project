{
 "cells": [
  {
   "cell_type": "code",
   "execution_count": 1,
   "metadata": {
    "execution": {
     "iopub.execute_input": "2021-09-03T08:24:38.137650Z",
     "iopub.status.busy": "2021-09-03T08:24:38.136829Z",
     "iopub.status.idle": "2021-09-03T08:24:38.148809Z",
     "shell.execute_reply": "2021-09-03T08:24:38.148019Z",
     "shell.execute_reply.started": "2021-09-03T08:24:38.137549Z"
    }
   },
   "outputs": [],
   "source": [
    "import pandas as pd\n",
    "import numpy as np\n",
    "import os"
   ]
  },
  {
   "cell_type": "markdown",
   "metadata": {},
   "source": [
    "**Please place all the data files in a folder named 'data' at a location where this notebook file is place**"
   ]
  },
  {
   "cell_type": "code",
   "execution_count": 2,
   "metadata": {
    "execution": {
     "iopub.execute_input": "2021-09-03T08:24:38.161133Z",
     "iopub.status.busy": "2021-09-03T08:24:38.160471Z",
     "iopub.status.idle": "2021-09-03T08:24:40.333860Z",
     "shell.execute_reply": "2021-09-03T08:24:40.333029Z",
     "shell.execute_reply.started": "2021-09-03T08:24:38.161083Z"
    }
   },
   "outputs": [
    {
     "data": {
      "text/html": [
       "<div>\n",
       "<style scoped>\n",
       "    .dataframe tbody tr th:only-of-type {\n",
       "        vertical-align: middle;\n",
       "    }\n",
       "\n",
       "    .dataframe tbody tr th {\n",
       "        vertical-align: top;\n",
       "    }\n",
       "\n",
       "    .dataframe thead th {\n",
       "        text-align: right;\n",
       "    }\n",
       "</style>\n",
       "<table border=\"1\" class=\"dataframe\">\n",
       "  <thead>\n",
       "    <tr style=\"text-align: right;\">\n",
       "      <th></th>\n",
       "      <th>0</th>\n",
       "      <th>1</th>\n",
       "      <th>2</th>\n",
       "      <th>3</th>\n",
       "    </tr>\n",
       "  </thead>\n",
       "  <tbody>\n",
       "    <tr>\n",
       "      <th>0</th>\n",
       "      <td>661</td>\n",
       "      <td>2016-01-01 00:00:00</td>\n",
       "      <td>8767</td>\n",
       "      <td>0</td>\n",
       "    </tr>\n",
       "    <tr>\n",
       "      <th>1</th>\n",
       "      <td>661</td>\n",
       "      <td>2016-01-01 00:01:00</td>\n",
       "      <td>8767</td>\n",
       "      <td>0</td>\n",
       "    </tr>\n",
       "    <tr>\n",
       "      <th>2</th>\n",
       "      <td>661</td>\n",
       "      <td>2016-01-01 00:02:00</td>\n",
       "      <td>8767</td>\n",
       "      <td>0</td>\n",
       "    </tr>\n",
       "    <tr>\n",
       "      <th>3</th>\n",
       "      <td>661</td>\n",
       "      <td>2016-01-01 00:03:00</td>\n",
       "      <td>8767</td>\n",
       "      <td>0</td>\n",
       "    </tr>\n",
       "    <tr>\n",
       "      <th>4</th>\n",
       "      <td>661</td>\n",
       "      <td>2016-01-01 00:04:00</td>\n",
       "      <td>8767</td>\n",
       "      <td>0</td>\n",
       "    </tr>\n",
       "  </tbody>\n",
       "</table>\n",
       "</div>"
      ],
      "text/plain": [
       "     0                   1     2  3\n",
       "0  661 2016-01-01 00:00:00  8767  0\n",
       "1  661 2016-01-01 00:01:00  8767  0\n",
       "2  661 2016-01-01 00:02:00  8767  0\n",
       "3  661 2016-01-01 00:03:00  8767  0\n",
       "4  661 2016-01-01 00:04:00  8767  0"
      ]
     },
     "execution_count": 2,
     "metadata": {},
     "output_type": "execute_result"
    }
   ],
   "source": [
    "df = pd.read_csv('C:/Users/Hari/7COM1039-0109-2020 - Advanced Computer Science Masters Project/data/111.csv', header=None, parse_dates = [1])\n",
    "df.head()"
   ]
  },
  {
   "cell_type": "code",
   "execution_count": 3,
   "metadata": {
    "execution": {
     "iopub.execute_input": "2021-09-03T08:24:40.335550Z",
     "iopub.status.busy": "2021-09-03T08:24:40.335080Z",
     "iopub.status.idle": "2021-09-03T08:25:06.255877Z",
     "shell.execute_reply": "2021-09-03T08:25:06.254781Z",
     "shell.execute_reply.started": "2021-09-03T08:24:40.335517Z"
    }
   },
   "outputs": [
    {
     "name": "stdout",
     "output_type": "stream",
     "text": [
      "************************\n",
      "111.csv\n",
      "(20144, 4)\n",
      "661    20144\n",
      "Name: 0, dtype: int64\n",
      "2016-01-15 00:00:00\n",
      "2016-01-01 00:00:00\n",
      "14 days 00:00:00\n",
      "************************\n",
      "1111.csv\n",
      "(20144, 4)\n",
      "661    20144\n",
      "Name: 0, dtype: int64\n",
      "NaT\n",
      "NaT\n",
      "NaT\n",
      "************************\n",
      "1112.csv\n",
      "(21233, 4)\n",
      "661    21233\n",
      "Name: 0, dtype: int64\n",
      "NaT\n",
      "NaT\n",
      "NaT\n",
      "************************\n",
      "112.csv\n",
      "(21233, 4)\n",
      "661    21233\n",
      "Name: 0, dtype: int64\n",
      "2016-01-31 00:00:00\n",
      "2016-01-16 00:00:00\n",
      "15 days 00:00:00\n",
      "************************\n",
      "1121.csv\n",
      "(20140, 4)\n",
      "661    20140\n",
      "Name: 0, dtype: int64\n",
      "NaT\n",
      "NaT\n",
      "NaT\n",
      "************************\n",
      "121.csv\n",
      "(20140, 4)\n",
      "661    20140\n",
      "Name: 0, dtype: int64\n",
      "2017-01-15 00:00:00\n",
      "2017-01-01 00:00:00\n",
      "14 days 00:00:00\n",
      "************************\n",
      "122.csv\n",
      "(21601, 4)\n",
      "661    21601\n",
      "Name: 0, dtype: int64\n",
      "2017-01-31 00:00:00\n",
      "2017-01-16 00:00:00\n",
      "15 days 00:00:00\n",
      "************************\n",
      "1222.csv\n",
      "(21600, 4)\n",
      "781    21600\n",
      "Name: 0, dtype: int64\n",
      "NaT\n",
      "NaT\n",
      "NaT\n",
      "************************\n",
      "1311.csv\n",
      "(20153, 4)\n",
      "9971    20153\n",
      "Name: 0, dtype: int64\n",
      "NaT\n",
      "NaT\n",
      "NaT\n",
      "************************\n",
      "1312.csv\n",
      "(21601, 4)\n",
      "9971    21601\n",
      "Name: 0, dtype: int64\n",
      "NaT\n",
      "NaT\n",
      "NaT\n",
      "************************\n",
      "1321.csv\n",
      "(20160, 4)\n",
      "9971    20160\n",
      "Name: 0, dtype: int64\n",
      "NaT\n",
      "NaT\n",
      "NaT\n",
      "************************\n",
      "1322.csv\n",
      "(21592, 4)\n",
      "9971    21592\n",
      "Name: 0, dtype: int64\n",
      "NaT\n",
      "NaT\n",
      "NaT\n",
      "************************\n",
      "211.csv\n",
      "(20151, 4)\n",
      "781    20151\n",
      "Name: 0, dtype: int64\n",
      "2016-01-15 00:00:00\n",
      "2016-01-01 00:00:00\n",
      "14 days 00:00:00\n",
      "************************\n",
      "212.csv\n",
      "(21600, 4)\n",
      "781    21600\n",
      "Name: 0, dtype: int64\n",
      "2016-01-31 00:00:00\n",
      "2016-01-16 00:00:00\n",
      "15 days 00:00:00\n",
      "************************\n",
      "221.csv\n",
      "(20161, 4)\n",
      "781    20161\n",
      "Name: 0, dtype: int64\n",
      "2017-01-15 00:00:00\n",
      "2017-01-01 00:00:00\n",
      "14 days 00:00:00\n",
      "************************\n",
      "222.csv\n",
      "(21600, 4)\n",
      "781    21600\n",
      "Name: 0, dtype: int64\n",
      "2017-01-31 00:00:00\n",
      "2017-01-16 00:00:00\n",
      "15 days 00:00:00\n",
      "************************\n",
      "311.csv\n",
      "(20153, 4)\n",
      "9971    20153\n",
      "Name: 0, dtype: int64\n",
      "2016-01-15 00:00:00\n",
      "2016-01-01 00:00:00\n",
      "14 days 00:00:00\n",
      "************************\n",
      "312.csv\n",
      "(21601, 4)\n",
      "9971    21601\n",
      "Name: 0, dtype: int64\n",
      "2016-01-31 00:00:00\n",
      "2016-01-16 00:00:00\n",
      "15 days 00:00:00\n",
      "************************\n",
      "321.csv\n",
      "(20160, 4)\n",
      "9971    20160\n",
      "Name: 0, dtype: int64\n",
      "2017-01-15 00:00:00\n",
      "2017-01-01 00:00:00\n",
      "14 days 00:00:00\n",
      "************************\n",
      "322.csv\n",
      "(21592, 4)\n",
      "9971    21592\n",
      "Name: 0, dtype: int64\n",
      "2017-01-31 00:00:00\n",
      "2017-01-16 00:00:00\n",
      "15 days 00:00:00\n"
     ]
    }
   ],
   "source": [
    "path = 'C:/Users/Hari/7COM1039-0109-2020 - Advanced Computer Science Masters Project/data/' \n",
    "files = os.listdir(path)\n",
    "\n",
    "for f in files:\n",
    "    df = pd.read_csv(path+f, header=None, parse_dates=[1])\n",
    "    print(\"************************\")\n",
    "    print(f)\n",
    "    print(df.shape)\n",
    "    print(df[0].value_counts())\n",
    "    print(df[1].max())\n",
    "    print(df[1].min())\n",
    "    print(df[1].max() - df[1].min())"
   ]
  },
  {
   "cell_type": "code",
   "execution_count": 4,
   "metadata": {
    "execution": {
     "iopub.execute_input": "2021-09-03T08:25:06.257898Z",
     "iopub.status.busy": "2021-09-03T08:25:06.257597Z",
     "iopub.status.idle": "2021-09-03T08:25:06.262243Z",
     "shell.execute_reply": "2021-09-03T08:25:06.261126Z",
     "shell.execute_reply.started": "2021-09-03T08:25:06.257869Z"
    }
   },
   "outputs": [],
   "source": [
    "# selecting train files from 2016-01-01 to 2016-01-15\n",
    "train_files = ['111', '211','311']"
   ]
  },
  {
   "cell_type": "markdown",
   "metadata": {},
   "source": [
    "### Creating Train Dataset"
   ]
  },
  {
   "cell_type": "code",
   "execution_count": 5,
   "metadata": {
    "execution": {
     "iopub.execute_input": "2021-09-03T08:25:06.263945Z",
     "iopub.status.busy": "2021-09-03T08:25:06.263657Z",
     "iopub.status.idle": "2021-09-03T08:25:06.279072Z",
     "shell.execute_reply": "2021-09-03T08:25:06.277677Z",
     "shell.execute_reply.started": "2021-09-03T08:25:06.263917Z"
    }
   },
   "outputs": [],
   "source": [
    "# creating a function for resampling and saving train datasets\n",
    "\n",
    "def read_df(string):\n",
    "    df = pd.read_csv('C:/Users/Hari/7COM1039-0109-2020 - Advanced Computer Science Masters Project/data/'+string+'.csv', header=None, parse_dates=[1])\n",
    "    ID = 'id' + string[0]\n",
    "    time = 'time' + string [0]\n",
    "    cons = 'water_consumption' + string [0]\n",
    "    df.columns = [ID, time, cons, 'unknown']\n",
    "    df.drop(columns = 'unknown', axis = 1, inplace = True)\n",
    "    df.set_index(time, inplace = True)\n",
    "    df = df.resample('D').mean()\n",
    "    print(\"Null value is observed in {}\".format(df[df.isnull().any(axis =1)].index))\n",
    "    \n",
    "    # using bfill for replacing nan values where data is not foudn\n",
    "    df = df.fillna(method = 'bfill')\n",
    "    df[ID] = df[ID].astype(int)\n",
    "    print(df.dtypes)\n",
    "    return df"
   ]
  },
  {
   "cell_type": "code",
   "execution_count": 6,
   "metadata": {
    "execution": {
     "iopub.execute_input": "2021-09-03T08:25:06.280941Z",
     "iopub.status.busy": "2021-09-03T08:25:06.280635Z",
     "iopub.status.idle": "2021-09-03T08:25:12.445872Z",
     "shell.execute_reply": "2021-09-03T08:25:12.444986Z",
     "shell.execute_reply.started": "2021-09-03T08:25:06.280911Z"
    }
   },
   "outputs": [
    {
     "name": "stdout",
     "output_type": "stream",
     "text": [
      "Null value is observed in DatetimeIndex([], dtype='datetime64[ns]', name='time1', freq='D')\n",
      "id1                     int32\n",
      "water_consumption1    float64\n",
      "dtype: object\n",
      "(15, 2)\n",
      "Null value is observed in DatetimeIndex([], dtype='datetime64[ns]', name='time2', freq='D')\n",
      "id2                     int32\n",
      "water_consumption2    float64\n",
      "dtype: object\n",
      "(15, 2)\n",
      "Null value is observed in DatetimeIndex([], dtype='datetime64[ns]', name='time3', freq='D')\n",
      "id3                     int32\n",
      "water_consumption3    float64\n",
      "dtype: object\n",
      "(15, 2)\n"
     ]
    }
   ],
   "source": [
    "df1 = read_df('111')\n",
    "print(df1.shape)\n",
    "\n",
    "df2 = read_df('211')\n",
    "print(df2.shape)\n",
    "\n",
    "df3 = read_df('311')\n",
    "print(df3.shape)\n",
    "\n"
   ]
  },
  {
   "cell_type": "code",
   "execution_count": 7,
   "metadata": {},
   "outputs": [
    {
     "data": {
      "text/html": [
       "<div>\n",
       "<style scoped>\n",
       "    .dataframe tbody tr th:only-of-type {\n",
       "        vertical-align: middle;\n",
       "    }\n",
       "\n",
       "    .dataframe tbody tr th {\n",
       "        vertical-align: top;\n",
       "    }\n",
       "\n",
       "    .dataframe thead th {\n",
       "        text-align: right;\n",
       "    }\n",
       "</style>\n",
       "<table border=\"1\" class=\"dataframe\">\n",
       "  <thead>\n",
       "    <tr style=\"text-align: right;\">\n",
       "      <th></th>\n",
       "      <th>id1</th>\n",
       "      <th>water_consumption1</th>\n",
       "      <th>id2</th>\n",
       "      <th>water_consumption2</th>\n",
       "      <th>id3</th>\n",
       "      <th>water_consumption3</th>\n",
       "    </tr>\n",
       "  </thead>\n",
       "  <tbody>\n",
       "    <tr>\n",
       "      <th>2016-01-01</th>\n",
       "      <td>661</td>\n",
       "      <td>8768.252778</td>\n",
       "      <td>781</td>\n",
       "      <td>18682.470139</td>\n",
       "      <td>9971</td>\n",
       "      <td>6332.447917</td>\n",
       "    </tr>\n",
       "    <tr>\n",
       "      <th>2016-01-02</th>\n",
       "      <td>661</td>\n",
       "      <td>8770.490278</td>\n",
       "      <td>781</td>\n",
       "      <td>18861.895833</td>\n",
       "      <td>9971</td>\n",
       "      <td>6374.597917</td>\n",
       "    </tr>\n",
       "    <tr>\n",
       "      <th>2016-01-03</th>\n",
       "      <td>661</td>\n",
       "      <td>8781.325694</td>\n",
       "      <td>781</td>\n",
       "      <td>19071.525000</td>\n",
       "      <td>9971</td>\n",
       "      <td>6468.329167</td>\n",
       "    </tr>\n",
       "    <tr>\n",
       "      <th>2016-01-04</th>\n",
       "      <td>661</td>\n",
       "      <td>8857.209722</td>\n",
       "      <td>781</td>\n",
       "      <td>19246.100000</td>\n",
       "      <td>9971</td>\n",
       "      <td>6554.550694</td>\n",
       "    </tr>\n",
       "    <tr>\n",
       "      <th>2016-01-05</th>\n",
       "      <td>661</td>\n",
       "      <td>8946.923611</td>\n",
       "      <td>781</td>\n",
       "      <td>19443.827083</td>\n",
       "      <td>9971</td>\n",
       "      <td>6632.056250</td>\n",
       "    </tr>\n",
       "    <tr>\n",
       "      <th>2016-01-06</th>\n",
       "      <td>661</td>\n",
       "      <td>9006.702083</td>\n",
       "      <td>781</td>\n",
       "      <td>19597.302083</td>\n",
       "      <td>9971</td>\n",
       "      <td>6710.063194</td>\n",
       "    </tr>\n",
       "    <tr>\n",
       "      <th>2016-01-07</th>\n",
       "      <td>661</td>\n",
       "      <td>9059.361806</td>\n",
       "      <td>781</td>\n",
       "      <td>19609.000000</td>\n",
       "      <td>9971</td>\n",
       "      <td>6771.351389</td>\n",
       "    </tr>\n",
       "    <tr>\n",
       "      <th>2016-01-08</th>\n",
       "      <td>661</td>\n",
       "      <td>9078.365278</td>\n",
       "      <td>781</td>\n",
       "      <td>19609.000000</td>\n",
       "      <td>9971</td>\n",
       "      <td>6841.810417</td>\n",
       "    </tr>\n",
       "    <tr>\n",
       "      <th>2016-01-09</th>\n",
       "      <td>661</td>\n",
       "      <td>9171.581944</td>\n",
       "      <td>781</td>\n",
       "      <td>19609.000000</td>\n",
       "      <td>9971</td>\n",
       "      <td>6910.670139</td>\n",
       "    </tr>\n",
       "    <tr>\n",
       "      <th>2016-01-10</th>\n",
       "      <td>661</td>\n",
       "      <td>9288.530028</td>\n",
       "      <td>781</td>\n",
       "      <td>19609.000000</td>\n",
       "      <td>9971</td>\n",
       "      <td>7064.941667</td>\n",
       "    </tr>\n",
       "    <tr>\n",
       "      <th>2016-01-11</th>\n",
       "      <td>661</td>\n",
       "      <td>9349.739402</td>\n",
       "      <td>781</td>\n",
       "      <td>19609.000000</td>\n",
       "      <td>9971</td>\n",
       "      <td>7156.701389</td>\n",
       "    </tr>\n",
       "    <tr>\n",
       "      <th>2016-01-12</th>\n",
       "      <td>661</td>\n",
       "      <td>9450.203472</td>\n",
       "      <td>781</td>\n",
       "      <td>19619.809028</td>\n",
       "      <td>9971</td>\n",
       "      <td>7234.834722</td>\n",
       "    </tr>\n",
       "    <tr>\n",
       "      <th>2016-01-13</th>\n",
       "      <td>661</td>\n",
       "      <td>9509.013889</td>\n",
       "      <td>781</td>\n",
       "      <td>19638.675000</td>\n",
       "      <td>9971</td>\n",
       "      <td>7305.043750</td>\n",
       "    </tr>\n",
       "    <tr>\n",
       "      <th>2016-01-14</th>\n",
       "      <td>661</td>\n",
       "      <td>9583.910615</td>\n",
       "      <td>781</td>\n",
       "      <td>19686.816911</td>\n",
       "      <td>9971</td>\n",
       "      <td>7384.937151</td>\n",
       "    </tr>\n",
       "    <tr>\n",
       "      <th>2016-01-15</th>\n",
       "      <td>661</td>\n",
       "      <td>9605.000000</td>\n",
       "      <td>781</td>\n",
       "      <td>19767.000000</td>\n",
       "      <td>9971</td>\n",
       "      <td>7419.000000</td>\n",
       "    </tr>\n",
       "  </tbody>\n",
       "</table>\n",
       "</div>"
      ],
      "text/plain": [
       "            id1  water_consumption1  id2  water_consumption2   id3  \\\n",
       "2016-01-01  661         8768.252778  781        18682.470139  9971   \n",
       "2016-01-02  661         8770.490278  781        18861.895833  9971   \n",
       "2016-01-03  661         8781.325694  781        19071.525000  9971   \n",
       "2016-01-04  661         8857.209722  781        19246.100000  9971   \n",
       "2016-01-05  661         8946.923611  781        19443.827083  9971   \n",
       "2016-01-06  661         9006.702083  781        19597.302083  9971   \n",
       "2016-01-07  661         9059.361806  781        19609.000000  9971   \n",
       "2016-01-08  661         9078.365278  781        19609.000000  9971   \n",
       "2016-01-09  661         9171.581944  781        19609.000000  9971   \n",
       "2016-01-10  661         9288.530028  781        19609.000000  9971   \n",
       "2016-01-11  661         9349.739402  781        19609.000000  9971   \n",
       "2016-01-12  661         9450.203472  781        19619.809028  9971   \n",
       "2016-01-13  661         9509.013889  781        19638.675000  9971   \n",
       "2016-01-14  661         9583.910615  781        19686.816911  9971   \n",
       "2016-01-15  661         9605.000000  781        19767.000000  9971   \n",
       "\n",
       "            water_consumption3  \n",
       "2016-01-01         6332.447917  \n",
       "2016-01-02         6374.597917  \n",
       "2016-01-03         6468.329167  \n",
       "2016-01-04         6554.550694  \n",
       "2016-01-05         6632.056250  \n",
       "2016-01-06         6710.063194  \n",
       "2016-01-07         6771.351389  \n",
       "2016-01-08         6841.810417  \n",
       "2016-01-09         6910.670139  \n",
       "2016-01-10         7064.941667  \n",
       "2016-01-11         7156.701389  \n",
       "2016-01-12         7234.834722  \n",
       "2016-01-13         7305.043750  \n",
       "2016-01-14         7384.937151  \n",
       "2016-01-15         7419.000000  "
      ]
     },
     "execution_count": 7,
     "metadata": {},
     "output_type": "execute_result"
    }
   ],
   "source": [
    "#Concatenating the all the Training data files.\n",
    "train_df = pd.concat([df1, df2, df3], axis = 1)\n",
    "train_df"
   ]
  },
  {
   "cell_type": "code",
   "execution_count": 8,
   "metadata": {
    "execution": {
     "iopub.execute_input": "2021-09-03T08:25:12.470826Z",
     "iopub.status.busy": "2021-09-03T08:25:12.470323Z",
     "iopub.status.idle": "2021-09-03T08:25:12.517645Z",
     "shell.execute_reply": "2021-09-03T08:25:12.516415Z",
     "shell.execute_reply.started": "2021-09-03T08:25:12.470774Z"
    }
   },
   "outputs": [
    {
     "name": "stdout",
     "output_type": "stream",
     "text": [
      "(15, 1)\n"
     ]
    },
    {
     "data": {
      "text/html": [
       "<div>\n",
       "<style scoped>\n",
       "    .dataframe tbody tr th:only-of-type {\n",
       "        vertical-align: middle;\n",
       "    }\n",
       "\n",
       "    .dataframe tbody tr th {\n",
       "        vertical-align: top;\n",
       "    }\n",
       "\n",
       "    .dataframe thead th {\n",
       "        text-align: right;\n",
       "    }\n",
       "</style>\n",
       "<table border=\"1\" class=\"dataframe\">\n",
       "  <thead>\n",
       "    <tr style=\"text-align: right;\">\n",
       "      <th></th>\n",
       "      <th>cum_cons</th>\n",
       "    </tr>\n",
       "  </thead>\n",
       "  <tbody>\n",
       "    <tr>\n",
       "      <th>2016-01-01</th>\n",
       "      <td>33783.170833</td>\n",
       "    </tr>\n",
       "    <tr>\n",
       "      <th>2016-01-02</th>\n",
       "      <td>34006.984028</td>\n",
       "    </tr>\n",
       "    <tr>\n",
       "      <th>2016-01-03</th>\n",
       "      <td>34321.179861</td>\n",
       "    </tr>\n",
       "    <tr>\n",
       "      <th>2016-01-04</th>\n",
       "      <td>34657.860417</td>\n",
       "    </tr>\n",
       "    <tr>\n",
       "      <th>2016-01-05</th>\n",
       "      <td>35022.806944</td>\n",
       "    </tr>\n",
       "  </tbody>\n",
       "</table>\n",
       "</div>"
      ],
      "text/plain": [
       "                cum_cons\n",
       "2016-01-01  33783.170833\n",
       "2016-01-02  34006.984028\n",
       "2016-01-03  34321.179861\n",
       "2016-01-04  34657.860417\n",
       "2016-01-05  35022.806944"
      ]
     },
     "execution_count": 8,
     "metadata": {},
     "output_type": "execute_result"
    }
   ],
   "source": [
    "train_df['cum_cons'] = train_df['water_consumption1'] +train_df['water_consumption2']+train_df['water_consumption3']\n",
    "train_df_cum = train_df.loc[:, ['cum_cons']]\n",
    "print(train_df_cum.shape)\n",
    "train_df_cum.head()"
   ]
  },
  {
   "cell_type": "code",
   "execution_count": 9,
   "metadata": {
    "execution": {
     "iopub.execute_input": "2021-09-03T08:25:12.520858Z",
     "iopub.status.busy": "2021-09-03T08:25:12.520138Z",
     "iopub.status.idle": "2021-09-03T08:25:12.537509Z",
     "shell.execute_reply": "2021-09-03T08:25:12.536455Z",
     "shell.execute_reply.started": "2021-09-03T08:25:12.520808Z"
    }
   },
   "outputs": [
    {
     "name": "stdout",
     "output_type": "stream",
     "text": [
      "<class 'pandas.core.frame.DataFrame'>\n",
      "DatetimeIndex: 15 entries, 2016-01-01 to 2016-01-15\n",
      "Freq: D\n",
      "Data columns (total 1 columns):\n",
      " #   Column    Non-Null Count  Dtype  \n",
      "---  ------    --------------  -----  \n",
      " 0   cum_cons  15 non-null     float64\n",
      "dtypes: float64(1)\n",
      "memory usage: 796.0 bytes\n"
     ]
    }
   ],
   "source": [
    "train_df_cum.info()"
   ]
  },
  {
   "cell_type": "code",
   "execution_count": 10,
   "metadata": {
    "execution": {
     "iopub.execute_input": "2021-09-03T08:25:12.540544Z",
     "iopub.status.busy": "2021-09-03T08:25:12.539926Z",
     "iopub.status.idle": "2021-09-03T08:25:12.547500Z",
     "shell.execute_reply": "2021-09-03T08:25:12.546095Z",
     "shell.execute_reply.started": "2021-09-03T08:25:12.540495Z"
    }
   },
   "outputs": [],
   "source": [
    "train = train_df[['cum_cons']].copy()"
   ]
  },
  {
   "cell_type": "code",
   "execution_count": 11,
   "metadata": {
    "execution": {
     "iopub.execute_input": "2021-09-03T08:25:12.549308Z",
     "iopub.status.busy": "2021-09-03T08:25:12.548693Z",
     "iopub.status.idle": "2021-09-03T08:25:12.564127Z",
     "shell.execute_reply": "2021-09-03T08:25:12.563325Z",
     "shell.execute_reply.started": "2021-09-03T08:25:12.549270Z"
    }
   },
   "outputs": [
    {
     "data": {
      "text/plain": [
       "pandas.core.frame.DataFrame"
      ]
     },
     "execution_count": 11,
     "metadata": {},
     "output_type": "execute_result"
    }
   ],
   "source": [
    "type(train)"
   ]
  },
  {
   "cell_type": "code",
   "execution_count": 12,
   "metadata": {
    "execution": {
     "iopub.execute_input": "2021-09-03T08:25:12.566356Z",
     "iopub.status.busy": "2021-09-03T08:25:12.565828Z",
     "iopub.status.idle": "2021-09-03T08:25:12.797234Z",
     "shell.execute_reply": "2021-09-03T08:25:12.796450Z",
     "shell.execute_reply.started": "2021-09-03T08:25:12.566318Z"
    }
   },
   "outputs": [
    {
     "data": {
      "image/png": "[encoded data removed]",
      "text/plain": [
       "<Figure size 1008x576 with 1 Axes>"
      ]
     },
     "metadata": {
      "needs_background": "light"
     },
     "output_type": "display_data"
    }
   ],
   "source": [
    "import matplotlib.pyplot as plt\n",
    "plt.figure(figsize=(14,8))\n",
    "plt.plot(train)\n",
    "plt.show()"
   ]
  },
  {
   "cell_type": "code",
   "execution_count": 13,
   "metadata": {
    "execution": {
     "iopub.execute_input": "2021-09-03T08:25:12.798679Z",
     "iopub.status.busy": "2021-09-03T08:25:12.798260Z",
     "iopub.status.idle": "2021-09-03T08:25:12.813866Z",
     "shell.execute_reply": "2021-09-03T08:25:12.812484Z",
     "shell.execute_reply.started": "2021-09-03T08:25:12.798649Z"
    }
   },
   "outputs": [
    {
     "name": "stdout",
     "output_type": "stream",
     "text": [
      "<class 'pandas.core.frame.DataFrame'>\n",
      "DatetimeIndex: 15 entries, 2016-01-01 to 2016-01-15\n",
      "Freq: D\n",
      "Data columns (total 1 columns):\n",
      " #   Column    Non-Null Count  Dtype  \n",
      "---  ------    --------------  -----  \n",
      " 0   cum_cons  15 non-null     float64\n",
      "dtypes: float64(1)\n",
      "memory usage: 796.0 bytes\n"
     ]
    }
   ],
   "source": [
    "train.info()"
   ]
  },
  {
   "cell_type": "markdown",
   "metadata": {},
   "source": [
    "# Creating Test Dataset"
   ]
  },
  {
   "cell_type": "code",
   "execution_count": 14,
   "metadata": {},
   "outputs": [
    {
     "name": "stdout",
     "output_type": "stream",
     "text": [
      "Null value is observed in DatetimeIndex([], dtype='datetime64[ns]', name='time1', freq='D')\n",
      "id1                     int32\n",
      "water_consumption1    float64\n",
      "dtype: object\n",
      "(16, 2)\n",
      "Null value is observed in DatetimeIndex([], dtype='datetime64[ns]', name='time2', freq='D')\n",
      "id2                     int32\n",
      "water_consumption2    float64\n",
      "dtype: object\n",
      "(16, 2)\n",
      "Null value is observed in DatetimeIndex([], dtype='datetime64[ns]', name='time3', freq='D')\n",
      "id3                     int32\n",
      "water_consumption3    float64\n",
      "dtype: object\n",
      "(16, 2)\n"
     ]
    }
   ],
   "source": [
    "df4 = read_df('112')\n",
    "print(df4.shape)\n",
    "\n",
    "df5 = read_df('212')\n",
    "print(df5.shape)\n",
    "\n",
    "df6 = read_df('312')\n",
    "print(df6.shape)"
   ]
  },
  {
   "cell_type": "code",
   "execution_count": 15,
   "metadata": {},
   "outputs": [
    {
     "data": {
      "text/html": [
       "<div>\n",
       "<style scoped>\n",
       "    .dataframe tbody tr th:only-of-type {\n",
       "        vertical-align: middle;\n",
       "    }\n",
       "\n",
       "    .dataframe tbody tr th {\n",
       "        vertical-align: top;\n",
       "    }\n",
       "\n",
       "    .dataframe thead th {\n",
       "        text-align: right;\n",
       "    }\n",
       "</style>\n",
       "<table border=\"1\" class=\"dataframe\">\n",
       "  <thead>\n",
       "    <tr style=\"text-align: right;\">\n",
       "      <th></th>\n",
       "      <th>id1</th>\n",
       "      <th>water_consumption1</th>\n",
       "      <th>id2</th>\n",
       "      <th>water_consumption2</th>\n",
       "      <th>id3</th>\n",
       "      <th>water_consumption3</th>\n",
       "    </tr>\n",
       "  </thead>\n",
       "  <tbody>\n",
       "    <tr>\n",
       "      <th>2016-01-16</th>\n",
       "      <td>661</td>\n",
       "      <td>9779.677778</td>\n",
       "      <td>781</td>\n",
       "      <td>19944.765972</td>\n",
       "      <td>9971</td>\n",
       "      <td>7529.439583</td>\n",
       "    </tr>\n",
       "    <tr>\n",
       "      <th>2016-01-17</th>\n",
       "      <td>661</td>\n",
       "      <td>9894.480976</td>\n",
       "      <td>781</td>\n",
       "      <td>20129.602778</td>\n",
       "      <td>9971</td>\n",
       "      <td>7622.463889</td>\n",
       "    </tr>\n",
       "    <tr>\n",
       "      <th>2016-01-18</th>\n",
       "      <td>661</td>\n",
       "      <td>9976.896259</td>\n",
       "      <td>781</td>\n",
       "      <td>20308.954167</td>\n",
       "      <td>9971</td>\n",
       "      <td>7698.938889</td>\n",
       "    </tr>\n",
       "    <tr>\n",
       "      <th>2016-01-19</th>\n",
       "      <td>661</td>\n",
       "      <td>10060.777461</td>\n",
       "      <td>781</td>\n",
       "      <td>20466.229167</td>\n",
       "      <td>9971</td>\n",
       "      <td>7856.814583</td>\n",
       "    </tr>\n",
       "    <tr>\n",
       "      <th>2016-01-20</th>\n",
       "      <td>661</td>\n",
       "      <td>10113.007725</td>\n",
       "      <td>781</td>\n",
       "      <td>20582.594444</td>\n",
       "      <td>9971</td>\n",
       "      <td>7930.429167</td>\n",
       "    </tr>\n",
       "    <tr>\n",
       "      <th>2016-01-21</th>\n",
       "      <td>661</td>\n",
       "      <td>10170.897917</td>\n",
       "      <td>781</td>\n",
       "      <td>20698.593056</td>\n",
       "      <td>9971</td>\n",
       "      <td>8005.856944</td>\n",
       "    </tr>\n",
       "    <tr>\n",
       "      <th>2016-01-22</th>\n",
       "      <td>661</td>\n",
       "      <td>10221.880556</td>\n",
       "      <td>781</td>\n",
       "      <td>20824.047222</td>\n",
       "      <td>9971</td>\n",
       "      <td>8060.618056</td>\n",
       "    </tr>\n",
       "    <tr>\n",
       "      <th>2016-01-23</th>\n",
       "      <td>661</td>\n",
       "      <td>10273.503472</td>\n",
       "      <td>781</td>\n",
       "      <td>20968.419444</td>\n",
       "      <td>9971</td>\n",
       "      <td>8142.485417</td>\n",
       "    </tr>\n",
       "    <tr>\n",
       "      <th>2016-01-24</th>\n",
       "      <td>661</td>\n",
       "      <td>10407.472222</td>\n",
       "      <td>781</td>\n",
       "      <td>21165.834028</td>\n",
       "      <td>9971</td>\n",
       "      <td>8219.674306</td>\n",
       "    </tr>\n",
       "    <tr>\n",
       "      <th>2016-01-25</th>\n",
       "      <td>661</td>\n",
       "      <td>10525.602778</td>\n",
       "      <td>781</td>\n",
       "      <td>21363.904861</td>\n",
       "      <td>9971</td>\n",
       "      <td>8302.809722</td>\n",
       "    </tr>\n",
       "    <tr>\n",
       "      <th>2016-01-26</th>\n",
       "      <td>661</td>\n",
       "      <td>10621.738194</td>\n",
       "      <td>781</td>\n",
       "      <td>21535.061154</td>\n",
       "      <td>9971</td>\n",
       "      <td>8360.433333</td>\n",
       "    </tr>\n",
       "    <tr>\n",
       "      <th>2016-01-27</th>\n",
       "      <td>661</td>\n",
       "      <td>10674.347917</td>\n",
       "      <td>781</td>\n",
       "      <td>21700.826389</td>\n",
       "      <td>9971</td>\n",
       "      <td>8438.523611</td>\n",
       "    </tr>\n",
       "    <tr>\n",
       "      <th>2016-01-28</th>\n",
       "      <td>661</td>\n",
       "      <td>10738.614583</td>\n",
       "      <td>781</td>\n",
       "      <td>21855.077083</td>\n",
       "      <td>9971</td>\n",
       "      <td>8503.186806</td>\n",
       "    </tr>\n",
       "    <tr>\n",
       "      <th>2016-01-29</th>\n",
       "      <td>661</td>\n",
       "      <td>10784.672222</td>\n",
       "      <td>781</td>\n",
       "      <td>22010.915278</td>\n",
       "      <td>9971</td>\n",
       "      <td>8578.251389</td>\n",
       "    </tr>\n",
       "    <tr>\n",
       "      <th>2016-01-30</th>\n",
       "      <td>661</td>\n",
       "      <td>10838.237300</td>\n",
       "      <td>781</td>\n",
       "      <td>22221.577778</td>\n",
       "      <td>9971</td>\n",
       "      <td>8649.363194</td>\n",
       "    </tr>\n",
       "    <tr>\n",
       "      <th>2016-01-31</th>\n",
       "      <td>661</td>\n",
       "      <td>10917.000000</td>\n",
       "      <td>781</td>\n",
       "      <td>22313.000000</td>\n",
       "      <td>9971</td>\n",
       "      <td>8696.000000</td>\n",
       "    </tr>\n",
       "  </tbody>\n",
       "</table>\n",
       "</div>"
      ],
      "text/plain": [
       "            id1  water_consumption1  id2  water_consumption2   id3  \\\n",
       "2016-01-16  661         9779.677778  781        19944.765972  9971   \n",
       "2016-01-17  661         9894.480976  781        20129.602778  9971   \n",
       "2016-01-18  661         9976.896259  781        20308.954167  9971   \n",
       "2016-01-19  661        10060.777461  781        20466.229167  9971   \n",
       "2016-01-20  661        10113.007725  781        20582.594444  9971   \n",
       "2016-01-21  661        10170.897917  781        20698.593056  9971   \n",
       "2016-01-22  661        10221.880556  781        20824.047222  9971   \n",
       "2016-01-23  661        10273.503472  781        20968.419444  9971   \n",
       "2016-01-24  661        10407.472222  781        21165.834028  9971   \n",
       "2016-01-25  661        10525.602778  781        21363.904861  9971   \n",
       "2016-01-26  661        10621.738194  781        21535.061154  9971   \n",
       "2016-01-27  661        10674.347917  781        21700.826389  9971   \n",
       "2016-01-28  661        10738.614583  781        21855.077083  9971   \n",
       "2016-01-29  661        10784.672222  781        22010.915278  9971   \n",
       "2016-01-30  661        10838.237300  781        22221.577778  9971   \n",
       "2016-01-31  661        10917.000000  781        22313.000000  9971   \n",
       "\n",
       "            water_consumption3  \n",
       "2016-01-16         7529.439583  \n",
       "2016-01-17         7622.463889  \n",
       "2016-01-18         7698.938889  \n",
       "2016-01-19         7856.814583  \n",
       "2016-01-20         7930.429167  \n",
       "2016-01-21         8005.856944  \n",
       "2016-01-22         8060.618056  \n",
       "2016-01-23         8142.485417  \n",
       "2016-01-24         8219.674306  \n",
       "2016-01-25         8302.809722  \n",
       "2016-01-26         8360.433333  \n",
       "2016-01-27         8438.523611  \n",
       "2016-01-28         8503.186806  \n",
       "2016-01-29         8578.251389  \n",
       "2016-01-30         8649.363194  \n",
       "2016-01-31         8696.000000  "
      ]
     },
     "execution_count": 15,
     "metadata": {},
     "output_type": "execute_result"
    }
   ],
   "source": [
    "#Concatenating the all the test data files.\n",
    "test_df = pd.concat([df4, df5, df6], axis = 1)\n",
    "test_df"
   ]
  },
  {
   "cell_type": "code",
   "execution_count": 16,
   "metadata": {},
   "outputs": [
    {
     "name": "stdout",
     "output_type": "stream",
     "text": [
      "(16, 1)\n"
     ]
    },
    {
     "data": {
      "text/html": [
       "<div>\n",
       "<style scoped>\n",
       "    .dataframe tbody tr th:only-of-type {\n",
       "        vertical-align: middle;\n",
       "    }\n",
       "\n",
       "    .dataframe tbody tr th {\n",
       "        vertical-align: top;\n",
       "    }\n",
       "\n",
       "    .dataframe thead th {\n",
       "        text-align: right;\n",
       "    }\n",
       "</style>\n",
       "<table border=\"1\" class=\"dataframe\">\n",
       "  <thead>\n",
       "    <tr style=\"text-align: right;\">\n",
       "      <th></th>\n",
       "      <th>cum_cons</th>\n",
       "    </tr>\n",
       "  </thead>\n",
       "  <tbody>\n",
       "    <tr>\n",
       "      <th>2016-01-16</th>\n",
       "      <td>37253.883333</td>\n",
       "    </tr>\n",
       "    <tr>\n",
       "      <th>2016-01-17</th>\n",
       "      <td>37646.547643</td>\n",
       "    </tr>\n",
       "    <tr>\n",
       "      <th>2016-01-18</th>\n",
       "      <td>37984.789314</td>\n",
       "    </tr>\n",
       "    <tr>\n",
       "      <th>2016-01-19</th>\n",
       "      <td>38383.821211</td>\n",
       "    </tr>\n",
       "    <tr>\n",
       "      <th>2016-01-20</th>\n",
       "      <td>38626.031336</td>\n",
       "    </tr>\n",
       "    <tr>\n",
       "      <th>2016-01-21</th>\n",
       "      <td>38875.347917</td>\n",
       "    </tr>\n",
       "    <tr>\n",
       "      <th>2016-01-22</th>\n",
       "      <td>39106.545833</td>\n",
       "    </tr>\n",
       "    <tr>\n",
       "      <th>2016-01-23</th>\n",
       "      <td>39384.408333</td>\n",
       "    </tr>\n",
       "    <tr>\n",
       "      <th>2016-01-24</th>\n",
       "      <td>39792.980556</td>\n",
       "    </tr>\n",
       "    <tr>\n",
       "      <th>2016-01-25</th>\n",
       "      <td>40192.317361</td>\n",
       "    </tr>\n",
       "    <tr>\n",
       "      <th>2016-01-26</th>\n",
       "      <td>40517.232681</td>\n",
       "    </tr>\n",
       "    <tr>\n",
       "      <th>2016-01-27</th>\n",
       "      <td>40813.697917</td>\n",
       "    </tr>\n",
       "    <tr>\n",
       "      <th>2016-01-28</th>\n",
       "      <td>41096.878472</td>\n",
       "    </tr>\n",
       "    <tr>\n",
       "      <th>2016-01-29</th>\n",
       "      <td>41373.838889</td>\n",
       "    </tr>\n",
       "    <tr>\n",
       "      <th>2016-01-30</th>\n",
       "      <td>41709.178272</td>\n",
       "    </tr>\n",
       "    <tr>\n",
       "      <th>2016-01-31</th>\n",
       "      <td>41926.000000</td>\n",
       "    </tr>\n",
       "  </tbody>\n",
       "</table>\n",
       "</div>"
      ],
      "text/plain": [
       "                cum_cons\n",
       "2016-01-16  37253.883333\n",
       "2016-01-17  37646.547643\n",
       "2016-01-18  37984.789314\n",
       "2016-01-19  38383.821211\n",
       "2016-01-20  38626.031336\n",
       "2016-01-21  38875.347917\n",
       "2016-01-22  39106.545833\n",
       "2016-01-23  39384.408333\n",
       "2016-01-24  39792.980556\n",
       "2016-01-25  40192.317361\n",
       "2016-01-26  40517.232681\n",
       "2016-01-27  40813.697917\n",
       "2016-01-28  41096.878472\n",
       "2016-01-29  41373.838889\n",
       "2016-01-30  41709.178272\n",
       "2016-01-31  41926.000000"
      ]
     },
     "execution_count": 16,
     "metadata": {},
     "output_type": "execute_result"
    }
   ],
   "source": [
    "# Adding up all the test water consumption data together\n",
    "\n",
    "test_df['cum_cons'] = test_df['water_consumption1'] +test_df['water_consumption2']+test_df['water_consumption3']\n",
    "test_df_cum = test_df.loc[:, ['cum_cons']]\n",
    "print(test_df_cum.shape)\n",
    "test_df_cum"
   ]
  },
  {
   "cell_type": "code",
   "execution_count": 17,
   "metadata": {},
   "outputs": [],
   "source": [
    "test = test_df[['cum_cons']].copy()"
   ]
  },
  {
   "cell_type": "code",
   "execution_count": 18,
   "metadata": {},
   "outputs": [
    {
     "data": {
      "image/png": "[encoded data removed]",
      "text/plain": [
       "<Figure size 1008x576 with 1 Axes>"
      ]
     },
     "metadata": {
      "needs_background": "light"
     },
     "output_type": "display_data"
    }
   ],
   "source": [
    "import matplotlib.pyplot as plt\n",
    "plt.figure(figsize=(14,8))\n",
    "plt.plot(test)\n",
    "plt.show()"
   ]
  },
  {
   "cell_type": "code",
   "execution_count": 19,
   "metadata": {
    "execution": {
     "iopub.execute_input": "2021-09-03T08:25:12.815935Z",
     "iopub.status.busy": "2021-09-03T08:25:12.815624Z",
     "iopub.status.idle": "2021-09-03T08:25:13.799659Z",
     "shell.execute_reply": "2021-09-03T08:25:13.798580Z",
     "shell.execute_reply.started": "2021-09-03T08:25:12.815906Z"
    }
   },
   "outputs": [],
   "source": [
    "import sklearn"
   ]
  },
  {
   "cell_type": "code",
   "execution_count": 20,
   "metadata": {
    "execution": {
     "iopub.execute_input": "2021-09-03T08:25:13.801281Z",
     "iopub.status.busy": "2021-09-03T08:25:13.800937Z",
     "iopub.status.idle": "2021-09-03T08:25:13.841726Z",
     "shell.execute_reply": "2021-09-03T08:25:13.840585Z",
     "shell.execute_reply.started": "2021-09-03T08:25:13.801247Z"
    }
   },
   "outputs": [],
   "source": [
    "from sklearn.preprocessing import MinMaxScaler\n",
    "scale = MinMaxScaler(feature_range=(0, 1))\n",
    "scale.fit(train)\n",
    "train = scale.transform(train)\n",
    "test = scale.transform(test)"
   ]
  },
  {
   "cell_type": "code",
   "execution_count": 21,
   "metadata": {
    "execution": {
     "iopub.execute_input": "2021-09-03T08:25:13.843776Z",
     "iopub.status.busy": "2021-09-03T08:25:13.843319Z",
     "iopub.status.idle": "2021-09-03T08:25:13.851486Z",
     "shell.execute_reply": "2021-09-03T08:25:13.850005Z",
     "shell.execute_reply.started": "2021-09-03T08:25:13.843729Z"
    }
   },
   "outputs": [],
   "source": [
    "import numpy as np\n",
    "def datasetCreation(data, lback=1):\n",
    "    X, Y = list(), list()\n",
    "    for i in range(len(data)-lback-1):\n",
    "        a = data[i:(i+lback), 0]\n",
    "        X.append(a)\n",
    "        Y.append(data[i + lback, 0])\n",
    "    return np.array(X), np.array(Y)"
   ]
  },
  {
   "cell_type": "code",
   "execution_count": 22,
   "metadata": {
    "execution": {
     "iopub.execute_input": "2021-09-03T08:25:13.853820Z",
     "iopub.status.busy": "2021-09-03T08:25:13.853045Z",
     "iopub.status.idle": "2021-09-03T08:25:13.866453Z",
     "shell.execute_reply": "2021-09-03T08:25:13.865437Z",
     "shell.execute_reply.started": "2021-09-03T08:25:13.853775Z"
    }
   },
   "outputs": [],
   "source": [
    "trainX, trainY = datasetCreation(train, 1)\n",
    "testX, testY = datasetCreation(test, 1)"
   ]
  },
  {
   "cell_type": "code",
   "execution_count": 23,
   "metadata": {
    "execution": {
     "iopub.execute_input": "2021-09-03T08:25:13.950853Z",
     "iopub.status.busy": "2021-09-03T08:25:13.950546Z",
     "iopub.status.idle": "2021-09-03T08:25:13.956620Z",
     "shell.execute_reply": "2021-09-03T08:25:13.955086Z",
     "shell.execute_reply.started": "2021-09-03T08:25:13.950824Z"
    }
   },
   "outputs": [],
   "source": [
    "# trainX = np.reshape(trainX, (trainX.shape[0], 1, trainX.shape[1]))\n",
    "# testX = np.reshape(testX, (testX.shape[0], 1, testX.shape[1]))\n",
    "\n",
    "# X_train = np.reshape(X_train, (X_train.shape[0], 1, X_train.shape[1]))\n",
    "# X_test = np.reshape(X_test, (X_test.shape[0], 1, X_test.shape[1]))"
   ]
  },
  {
   "cell_type": "code",
   "execution_count": 24,
   "metadata": {},
   "outputs": [],
   "source": [
    "import numpy as np\n",
    "np.random.seed(10)"
   ]
  },
  {
   "cell_type": "markdown",
   "metadata": {},
   "source": [
    "# Random Forest Regressor"
   ]
  },
  {
   "cell_type": "code",
   "execution_count": 25,
   "metadata": {},
   "outputs": [
    {
     "data": {
      "text/plain": [
       "RandomForestRegressor(max_depth=2, random_state=0)"
      ]
     },
     "execution_count": 25,
     "metadata": {},
     "output_type": "execute_result"
    }
   ],
   "source": [
    "from sklearn.ensemble import RandomForestRegressor\n",
    "rf_regr = RandomForestRegressor(max_depth=2, random_state=0)\n",
    "rf_regr.fit(trainX, trainY)"
   ]
  },
  {
   "cell_type": "code",
   "execution_count": 26,
   "metadata": {},
   "outputs": [],
   "source": [
    "tr_pred = rf_regr.predict(trainX)\n"
   ]
  },
  {
   "cell_type": "code",
   "execution_count": 27,
   "metadata": {},
   "outputs": [
    {
     "data": {
      "text/plain": [
       "0.04177507448652989"
      ]
     },
     "execution_count": 27,
     "metadata": {},
     "output_type": "execute_result"
    }
   ],
   "source": [
    "# Evaluation for RandomForest\n",
    "import math\n",
    "from sklearn.metrics import mean_squared_error\n",
    "tr_rmse = math.sqrt(mean_squared_error(trainY, tr_pred))\n",
    "tr_rmse"
   ]
  },
  {
   "cell_type": "code",
   "execution_count": 28,
   "metadata": {},
   "outputs": [
    {
     "data": {
      "image/png": "[encoded data removed]",
      "text/plain": [
       "<Figure size 432x288 with 1 Axes>"
      ]
     },
     "metadata": {
      "needs_background": "light"
     },
     "output_type": "display_data"
    }
   ],
   "source": [
    "plt.plot(trainY, label='Expected')\n",
    "plt.plot(tr_pred, label='Predicted')\n",
    "plt.title('Random Forest Regressor Training')\n",
    "plt.legend()\n",
    "plt.show()"
   ]
  },
  {
   "cell_type": "code",
   "execution_count": 30,
   "metadata": {},
   "outputs": [
    {
     "data": {
      "text/plain": [
       "array([0.86717648, 0.86717648, 0.86717648, 0.86717648, 0.86717648,\n",
       "       0.86717648, 0.86717648, 0.86717648, 0.86717648, 0.86717648,\n",
       "       0.86717648, 0.86717648, 0.86717648, 0.86717648])"
      ]
     },
     "execution_count": 30,
     "metadata": {},
     "output_type": "execute_result"
    }
   ],
   "source": [
    "te_pred"
   ]
  },
  {
   "cell_type": "code",
   "execution_count": 29,
   "metadata": {},
   "outputs": [],
   "source": []
  },
  {
   "cell_type": "code",
   "execution_count": 31,
   "metadata": {},
   "outputs": [
    {
     "data": {
      "text/plain": [
       "1.1700963964826718"
      ]
     },
     "execution_count": 31,
     "metadata": {},
     "output_type": "execute_result"
    }
   ],
   "source": [
    "# Evaluation for RandomForest Testing\n",
    "te_pred = rf_regr.predict(testX)\n",
    "te_rmse = math.sqrt(mean_squared_error(testY, te_pred))\n",
    "te_rmse"
   ]
  },
  {
   "cell_type": "code",
   "execution_count": 32,
   "metadata": {},
   "outputs": [
    {
     "data": {
      "image/png": "[encoded data removed]",
      "text/plain": [
       "<Figure size 432x288 with 1 Axes>"
      ]
     },
     "metadata": {
      "needs_background": "light"
     },
     "output_type": "display_data"
    }
   ],
   "source": [
    "plt.plot(testY, label='Expected')\n",
    "plt.plot(te_pred, label='Predicted')\n",
    "plt.title('Random Forest Regressor Testing')\n",
    "plt.legend()\n",
    "plt.show()"
   ]
  },
  {
   "cell_type": "markdown",
   "metadata": {},
   "source": [
    "# Support Vector Regressor"
   ]
  },
  {
   "cell_type": "code",
   "execution_count": 33,
   "metadata": {},
   "outputs": [
    {
     "name": "stdout",
     "output_type": "stream",
     "text": [
      "RMSE of train data:  0.10881396798491118\n"
     ]
    }
   ],
   "source": [
    "from sklearn.svm import SVR\n",
    "svr_regr = SVR(C=1.0, epsilon=0.2)\n",
    "svr_regr.fit(trainX, trainY)\n",
    "tr_pred = svr_regr.predict(trainX)\n",
    "print(\"RMSE of train data: \", math.sqrt(mean_squared_error(trainY, tr_pred)))"
   ]
  },
  {
   "cell_type": "code",
   "execution_count": 34,
   "metadata": {},
   "outputs": [
    {
     "data": {
      "image/png": "[encoded data removed]",
      "text/plain": [
       "<Figure size 432x288 with 1 Axes>"
      ]
     },
     "metadata": {
      "needs_background": "light"
     },
     "output_type": "display_data"
    }
   ],
   "source": [
    "plt.plot(trainY, label='Expected')\n",
    "plt.plot(tr_pred, label='Predicted')\n",
    "plt.title('Support Vector Regressor Training')\n",
    "plt.legend()\n",
    "plt.show()"
   ]
  },
  {
   "cell_type": "code",
   "execution_count": 35,
   "metadata": {},
   "outputs": [
    {
     "name": "stdout",
     "output_type": "stream",
     "text": [
      "RMSE of test 1.4995359140740063\n"
     ]
    }
   ],
   "source": [
    "# Evaluation for SVR Testing\n",
    "te_pred = svr_regr.predict(testX)\n",
    "te_rmse = math.sqrt(mean_squared_error(testY, te_pred))\n",
    "print(\"RMSE of test\",te_rmse)"
   ]
  },
  {
   "cell_type": "code",
   "execution_count": 36,
   "metadata": {},
   "outputs": [
    {
     "data": {
      "image/png": "[encoded data removed]",
      "text/plain": [
       "<Figure size 432x288 with 1 Axes>"
      ]
     },
     "metadata": {
      "needs_background": "light"
     },
     "output_type": "display_data"
    }
   ],
   "source": [
    "plt.plot(testY, label='Expected')\n",
    "plt.plot(te_pred, label='Predicted')\n",
    "plt.title('Support Vector Regressor Testing')\n",
    "plt.legend()\n",
    "plt.show()"
   ]
  },
  {
   "cell_type": "markdown",
   "metadata": {},
   "source": [
    "# Extra Trees Regressor"
   ]
  },
  {
   "cell_type": "code",
   "execution_count": 37,
   "metadata": {},
   "outputs": [
    {
     "name": "stdout",
     "output_type": "stream",
     "text": [
      "RMSE of train data:  1.3248633596047083e-15\n"
     ]
    }
   ],
   "source": [
    "from sklearn.ensemble import ExtraTreesRegressor\n",
    "et_regr = ExtraTreesRegressor(n_estimators=100, random_state=0)\n",
    "et_regr.fit(trainX, trainY)\n",
    "tr_pred = et_regr.predict(trainX)\n",
    "print(\"RMSE of train data: \", math.sqrt(mean_squared_error(trainY, tr_pred)))"
   ]
  },
  {
   "cell_type": "code",
   "execution_count": 38,
   "metadata": {},
   "outputs": [
    {
     "data": {
      "image/png": "[encoded data removed]",
      "text/plain": [
       "<Figure size 432x288 with 1 Axes>"
      ]
     },
     "metadata": {
      "needs_background": "light"
     },
     "output_type": "display_data"
    }
   ],
   "source": [
    "plt.plot(trainY, label='Expected')\n",
    "plt.plot(tr_pred, label='Predicted')\n",
    "plt.title('Extra Trees Regressor Training')\n",
    "plt.legend()\n",
    "plt.show()"
   ]
  },
  {
   "cell_type": "code",
   "execution_count": 39,
   "metadata": {},
   "outputs": [
    {
     "name": "stdout",
     "output_type": "stream",
     "text": [
      "RMSE of test 1.0885116726279689\n"
     ]
    }
   ],
   "source": [
    "te_pred = et_regr.predict(testX)\n",
    "te_rmse = math.sqrt(mean_squared_error(testY, te_pred))\n",
    "print(\"RMSE of test\",te_rmse)"
   ]
  },
  {
   "cell_type": "code",
   "execution_count": 40,
   "metadata": {},
   "outputs": [
    {
     "data": {
      "image/png": "[encoded data removed]",
      "text/plain": [
       "<Figure size 432x288 with 1 Axes>"
      ]
     },
     "metadata": {
      "needs_background": "light"
     },
     "output_type": "display_data"
    }
   ],
   "source": [
    "plt.plot(testY, label='Expected')\n",
    "plt.plot(te_pred, label='Predicted')\n",
    "plt.title('Extra Trees Regressor Testing')\n",
    "plt.legend()\n",
    "plt.show()"
   ]
  },
  {
   "cell_type": "markdown",
   "metadata": {},
   "source": [
    "# AdaBoost Regressor"
   ]
  },
  {
   "cell_type": "code",
   "execution_count": 41,
   "metadata": {},
   "outputs": [
    {
     "name": "stdout",
     "output_type": "stream",
     "text": [
      "RMSE of train data:  0.009636781239396297\n"
     ]
    }
   ],
   "source": [
    "from sklearn.ensemble import AdaBoostRegressor\n",
    "ada_regr = AdaBoostRegressor(random_state=0, n_estimators=100)\n",
    "ada_regr.fit(trainX, trainY)\n",
    "tr_pred = ada_regr.predict(trainX)\n",
    "print(\"RMSE of train data: \", math.sqrt(mean_squared_error(trainY, tr_pred)))"
   ]
  },
  {
   "cell_type": "code",
   "execution_count": 42,
   "metadata": {},
   "outputs": [
    {
     "data": {
      "image/png": "[encoded data removed]",
      "text/plain": [
       "<Figure size 432x288 with 1 Axes>"
      ]
     },
     "metadata": {
      "needs_background": "light"
     },
     "output_type": "display_data"
    }
   ],
   "source": [
    "plt.plot(trainY, label='Expected')\n",
    "plt.plot(tr_pred, label='Predicted')\n",
    "plt.title('AdaBoost Regressor Training')\n",
    "plt.legend()\n",
    "plt.show()"
   ]
  },
  {
   "cell_type": "code",
   "execution_count": 43,
   "metadata": {},
   "outputs": [
    {
     "name": "stdout",
     "output_type": "stream",
     "text": [
      "RMSE of test 1.08851167262797\n"
     ]
    }
   ],
   "source": [
    "te_pred = ada_regr.predict(testX)\n",
    "te_rmse = math.sqrt(mean_squared_error(testY, te_pred))\n",
    "print(\"RMSE of test\",te_rmse)"
   ]
  },
  {
   "cell_type": "code",
   "execution_count": 44,
   "metadata": {},
   "outputs": [
    {
     "data": {
      "image/png": "[encoded data removed]",
      "text/plain": [
       "<Figure size 432x288 with 1 Axes>"
      ]
     },
     "metadata": {
      "needs_background": "light"
     },
     "output_type": "display_data"
    }
   ],
   "source": [
    "plt.plot(testY, label='Expected')\n",
    "plt.plot(te_pred, label='Predicted')\n",
    "plt.title('AdaBoost Regressor Testing')\n",
    "plt.legend()\n",
    "plt.show()"
   ]
  },
  {
   "cell_type": "code",
   "execution_count": 45,
   "metadata": {},
   "outputs": [],
   "source": [
    "# AdaBoost Regressor Trail two"
   ]
  },
  {
   "cell_type": "code",
   "execution_count": 46,
   "metadata": {},
   "outputs": [
    {
     "name": "stdout",
     "output_type": "stream",
     "text": [
      "RMSE of train data:  0.025748694625689333\n"
     ]
    }
   ],
   "source": [
    "from sklearn.ensemble import AdaBoostRegressor\n",
    "ada_regr = AdaBoostRegressor(base_estimator= rf_regr, random_state=0, n_estimators=100)\n",
    "ada_regr.fit(trainX, trainY)\n",
    "tr_pred = ada_regr.predict(trainX)\n",
    "print(\"RMSE of train data: \", math.sqrt(mean_squared_error(trainY, tr_pred)))"
   ]
  },
  {
   "cell_type": "code",
   "execution_count": 47,
   "metadata": {},
   "outputs": [
    {
     "data": {
      "image/png": "[encoded data removed]",
      "text/plain": [
       "<Figure size 432x288 with 1 Axes>"
      ]
     },
     "metadata": {
      "needs_background": "light"
     },
     "output_type": "display_data"
    }
   ],
   "source": [
    "plt.plot(trainY, label='Expected')\n",
    "plt.plot(tr_pred, label='Predicted')\n",
    "plt.title('AdaBoost Regressor Training')\n",
    "plt.legend()\n",
    "plt.show()"
   ]
  },
  {
   "cell_type": "code",
   "execution_count": 48,
   "metadata": {},
   "outputs": [
    {
     "name": "stdout",
     "output_type": "stream",
     "text": [
      "RMSE of test 1.123063640457749\n"
     ]
    }
   ],
   "source": [
    "te_pred = ada_regr.predict(testX)\n",
    "te_rmse = math.sqrt(mean_squared_error(testY, te_pred))\n",
    "print(\"RMSE of test\",te_rmse)"
   ]
  },
  {
   "cell_type": "code",
   "execution_count": 49,
   "metadata": {},
   "outputs": [
    {
     "data": {
      "image/png": "[encoded data removed]",
      "text/plain": [
       "<Figure size 432x288 with 1 Axes>"
      ]
     },
     "metadata": {
      "needs_background": "light"
     },
     "output_type": "display_data"
    }
   ],
   "source": [
    "plt.plot(testY, label='Expected')\n",
    "plt.plot(te_pred, label='Predicted')\n",
    "plt.title('AdaBoost Regressor Testing')\n",
    "plt.legend()\n",
    "plt.show()"
   ]
  },
  {
   "cell_type": "markdown",
   "metadata": {},
   "source": [
    "AdaBoost Trail Two   RMSE of test 1.123063640457749\n",
    "\n",
    "AdaBoost Trail One   RMSE of test 1.08851167262797\n",
    "\n",
    "Extra Trees Regressor RMSE of test 1.0885116726279689\n",
    "\n",
    "Support Vector Regressor  RMSE of test 1.4995359140740063\n",
    "\n",
    "Random Forest Regressor  RMSE of test  1.1700963964826718\n",
    "\n",
    "LSTM2   RMSE of test 726.1742781991015\n",
    "\n",
    "LSTM    RMSE of test 1123.6527729287698\n",
    "\n",
    "ANN     RMSE of test 4411.759051602985\n",
    "\n",
    "\n"
   ]
  },
  {
   "cell_type": "code",
   "execution_count": null,
   "metadata": {},
   "outputs": [],
   "source": []
  }
 ],
 "metadata": {
  "kernelspec": {
   "display_name": "Python 3",
   "language": "python",
   "name": "python3"
  },
  "language_info": {
   "codemirror_mode": {
    "name": "ipython",
    "version": 3
   },
   "file_extension": ".py",
   "mimetype": "text/x-python",
   "name": "python",
   "nbconvert_exporter": "python",
   "pygments_lexer": "ipython3",
   "version": "3.9.2"
  }
 },
 "nbformat": 4,
 "nbformat_minor": 4
}
